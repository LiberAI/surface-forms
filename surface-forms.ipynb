{
 "cells": [
  {
   "cell_type": "code",
   "execution_count": 2,
   "id": "90a5cef5",
   "metadata": {},
   "outputs": [],
   "source": [
    "from redis import StrictRedis\n",
    "\n",
    "redis_forms = StrictRedis(host='localhost', port=7979, db=0)\n",
    "redis_redir = StrictRedis(host='localhost', port=7979, db=1)"
   ]
  },
  {
   "cell_type": "code",
   "execution_count": 3,
   "id": "420e963c",
   "metadata": {},
   "outputs": [],
   "source": [
    "def calculate_redirect(source):\n",
    "    result = redis_redir.get(source)\n",
    "    if result is None:\n",
    "        return source if type(source) is str else source.decode('utf-8')\n",
    "    return calculate_redirect(result)"
   ]
  },
  {
   "cell_type": "code",
   "execution_count": 50,
   "id": "0a71e87e",
   "metadata": {},
   "outputs": [
    {
     "data": {
      "text/html": [
       "<div>\n",
       "<style scoped>\n",
       "    .dataframe tbody tr th:only-of-type {\n",
       "        vertical-align: middle;\n",
       "    }\n",
       "\n",
       "    .dataframe tbody tr th {\n",
       "        vertical-align: top;\n",
       "    }\n",
       "\n",
       "    .dataframe thead th {\n",
       "        text-align: right;\n",
       "    }\n",
       "</style>\n",
       "<table border=\"1\" class=\"dataframe\">\n",
       "  <thead>\n",
       "    <tr style=\"text-align: right;\">\n",
       "      <th></th>\n",
       "      <th>entity</th>\n",
       "      <th>support</th>\n",
       "      <th>score</th>\n",
       "    </tr>\n",
       "  </thead>\n",
       "  <tbody>\n",
       "    <tr>\n",
       "      <th>0</th>\n",
       "      <td>United_States</td>\n",
       "      <td>208034</td>\n",
       "      <td>1.000000</td>\n",
       "    </tr>\n",
       "    <tr>\n",
       "      <th>1</th>\n",
       "      <td>United_States_men's_national_soccer_team</td>\n",
       "      <td>2095</td>\n",
       "      <td>0.010070</td>\n",
       "    </tr>\n",
       "    <tr>\n",
       "      <th>2</th>\n",
       "      <td>United_States_of_America</td>\n",
       "      <td>1415</td>\n",
       "      <td>0.006802</td>\n",
       "    </tr>\n",
       "    <tr>\n",
       "      <th>3</th>\n",
       "      <td>United_States_women's_national_soccer_team</td>\n",
       "      <td>890</td>\n",
       "      <td>0.004278</td>\n",
       "    </tr>\n",
       "    <tr>\n",
       "      <th>4</th>\n",
       "      <td>United_States_Soccer_Federation</td>\n",
       "      <td>757</td>\n",
       "      <td>0.003639</td>\n",
       "    </tr>\n",
       "    <tr>\n",
       "      <th>...</th>\n",
       "      <td>...</td>\n",
       "      <td>...</td>\n",
       "      <td>...</td>\n",
       "    </tr>\n",
       "    <tr>\n",
       "      <th>1965</th>\n",
       "      <td>2021_U.S._Figure_Skating_Championships</td>\n",
       "      <td>1</td>\n",
       "      <td>0.000005</td>\n",
       "    </tr>\n",
       "    <tr>\n",
       "      <th>1966</th>\n",
       "      <td>Lists_of_counties_in_the_United_States</td>\n",
       "      <td>1</td>\n",
       "      <td>0.000005</td>\n",
       "    </tr>\n",
       "    <tr>\n",
       "      <th>1967</th>\n",
       "      <td>LGBT_in_the_United_States</td>\n",
       "      <td>1</td>\n",
       "      <td>0.000005</td>\n",
       "    </tr>\n",
       "    <tr>\n",
       "      <th>1968</th>\n",
       "      <td>Swimming_at_the_1991_World_Aquatics_Championsh...</td>\n",
       "      <td>1</td>\n",
       "      <td>0.000005</td>\n",
       "    </tr>\n",
       "    <tr>\n",
       "      <th>1969</th>\n",
       "      <td>Atlantic_Mine,_Michigan</td>\n",
       "      <td>1</td>\n",
       "      <td>0.000005</td>\n",
       "    </tr>\n",
       "  </tbody>\n",
       "</table>\n",
       "<p>1970 rows × 3 columns</p>\n",
       "</div>"
      ],
      "text/plain": [
       "                                                 entity  support     score\n",
       "0                                         United_States   208034  1.000000\n",
       "1              United_States_men's_national_soccer_team     2095  0.010070\n",
       "2                              United_States_of_America     1415  0.006802\n",
       "3            United_States_women's_national_soccer_team      890  0.004278\n",
       "4                       United_States_Soccer_Federation      757  0.003639\n",
       "...                                                 ...      ...       ...\n",
       "1965             2021_U.S._Figure_Skating_Championships        1  0.000005\n",
       "1966             Lists_of_counties_in_the_United_States        1  0.000005\n",
       "1967                          LGBT_in_the_United_States        1  0.000005\n",
       "1968  Swimming_at_the_1991_World_Aquatics_Championsh...        1  0.000005\n",
       "1969                            Atlantic_Mine,_Michigan        1  0.000005\n",
       "\n",
       "[1970 rows x 3 columns]"
      ]
     },
     "execution_count": 50,
     "metadata": {},
     "output_type": "execute_result"
    }
   ],
   "source": [
    "import pandas as pd\n",
    "\n",
    "\n",
    "def query(surface_form):\n",
    "    raw = redis_forms.hgetall(surface_form)\n",
    "    if len(raw) == 0:\n",
    "        return pd.DataFrame(columns=['entity', 'support', 'score'])\n",
    "    \n",
    "    out = []\n",
    "    for label, score in raw.items():\n",
    "        out.append({'entity': label.decode('utf-8'), 'support': int(score)})\n",
    "    df_all = pd.DataFrame(out)\n",
    "    df_all['score'] = df_all['support'] / df_all['support'].max()\n",
    "    \n",
    "    return df_all.sort_values(by='score', ascending=False).reset_index(drop=True)\n",
    "\n",
    "df_out = query('United States')\n",
    "df_out"
   ]
  },
  {
   "cell_type": "code",
   "execution_count": 53,
   "id": "33b4b263",
   "metadata": {},
   "outputs": [],
   "source": [
    "def lookup(term, top_k=5, thr=0.01):\n",
    "    df_temp = query(term)\n",
    "#     display(df_temp)\n",
    "    df_temp['entity'] = df_temp['entity'].apply(lambda x: calculate_redirect(x))\n",
    "    if len(df_temp) == 0:\n",
    "        return pd.DataFrame(columns=['entity', 'support', 'score'])\n",
    "    df_final = df_temp.groupby('entity').sum()[['support']]\n",
    "    df_final['score'] = df_final['support'] / df_final['support'].max()\n",
    "    return df_final[df_final['score'] >= thr].sort_values(by='score', ascending=False)[:top_k]"
   ]
  },
  {
   "cell_type": "code",
   "execution_count": 64,
   "id": "cad51b97",
   "metadata": {},
   "outputs": [
    {
     "name": "stdout",
     "output_type": "stream",
     "text": [
      "                                support  score\n",
      "entity                                        \n",
      "United_States_Copyright_Office       12    1.0\n"
     ]
    }
   ],
   "source": [
    "print(lookup('US Copyright Office', top_k=10, thr=0.0001))"
   ]
  },
  {
   "cell_type": "code",
   "execution_count": 60,
   "id": "1dace682",
   "metadata": {},
   "outputs": [
    {
     "name": "stdout",
     "output_type": "stream",
     "text": [
      "                            support     score\n",
      "entity                                       \n",
      "Bhilai                          182  1.000000\n",
      "Electric_Loco_Shed,_Bhilai       15  0.082418\n",
      "Bhilai_Steel_Plant                3  0.016484\n",
      "IIT_Bhilai                        2  0.010989\n"
     ]
    }
   ],
   "source": [
    "print(lookup('Bhilai', thr=0.01))"
   ]
  },
  {
   "cell_type": "code",
   "execution_count": null,
   "id": "824f7f2a",
   "metadata": {},
   "outputs": [],
   "source": []
  }
 ],
 "metadata": {
  "kernelspec": {
   "display_name": "Python 3 (ipykernel)",
   "language": "python",
   "name": "python3"
  },
  "language_info": {
   "codemirror_mode": {
    "name": "ipython",
    "version": 3
   },
   "file_extension": ".py",
   "mimetype": "text/x-python",
   "name": "python",
   "nbconvert_exporter": "python",
   "pygments_lexer": "ipython3",
   "version": "3.10.8"
  }
 },
 "nbformat": 4,
 "nbformat_minor": 5
}
