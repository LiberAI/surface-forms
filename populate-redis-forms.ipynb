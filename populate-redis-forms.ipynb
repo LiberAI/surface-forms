{
 "cells": [
  {
   "cell_type": "code",
   "execution_count": null,
   "id": "58b4ee98",
   "metadata": {},
   "outputs": [],
   "source": [
    "!wget https://downloads.dbpedia.org/repo/dbpedia/generic/anchor-text/2022.12.01/anchor-text_lang=en.ttl.bz2\n",
    "!bunzip2 anchor-text_lang=en.ttl.bz2"
   ]
  },
  {
   "cell_type": "code",
   "execution_count": null,
   "id": "60d8c81b",
   "metadata": {},
   "outputs": [],
   "source": [
    "from redis import StrictRedis\n",
    "\n",
    "redis_forms = StrictRedis(host='localhost', port=7979, db=0)"
   ]
  },
  {
   "cell_type": "code",
   "execution_count": null,
   "id": "289af117",
   "metadata": {},
   "outputs": [],
   "source": [
    "NS_RESOURCE = 'http://dbpedia.org/resource/'\n",
    "NS_RESOURCE_LEN = len(NS_RESOURCE)"
   ]
  },
  {
   "cell_type": "code",
   "execution_count": null,
   "id": "7f372117",
   "metadata": {
    "scrolled": true
   },
   "outputs": [],
   "source": [
    "import sys\n",
    "from rdflib import Graph, URIRef, BNode, Literal\n",
    "from rdflib.plugins.parsers import ntriples\n",
    "from rdflib.exceptions import ParserError as ParseError\n",
    "\n",
    "class CustomSink(ntriples.NTGraphSink):\n",
    "    def __init__(self, graph):\n",
    "        super().__init__(graph)\n",
    "        self.counter = 0\n",
    "    def triple(self, s, p, o):\n",
    "        entity = str(s)[NS_RESOURCE_LEN:]\n",
    "        redis_forms.hincrby(o, entity, 1)\n",
    "        self.counter += 1\n",
    "        if self.counter % 1_000 == 0:\n",
    "            print(f\"{round(self.counter / 1_000, 0)} k\")\n",
    "\n",
    "class CustomParser(ntriples.W3CNTriplesParser):\n",
    "    def parse(self, f):\n",
    "        if not hasattr(f, \"read\"):\n",
    "            raise ParseError(\"Item to parse must be a file-like object.\")\n",
    "\n",
    "        if not hasattr(f, \"encoding\") and not hasattr(f, \"charbuffer\"):\n",
    "            # someone still using a bytestream here?\n",
    "            f = codecs.getreader(\"utf-8\")(f)\n",
    "\n",
    "        self.file = f  # type: ignore[assignment]\n",
    "        self.buffer = \"\"\n",
    "        while True:\n",
    "            self.line = self.readline()\n",
    "            if self.line is None:\n",
    "                break\n",
    "            try:\n",
    "                self.parseline()\n",
    "            except ParseError:\n",
    "                pass # ignore parse errors\n",
    "        return self.sink\n",
    "\n",
    "fname = r\"anchor-text_lang=en.ttl\"\n",
    "sink1 = CustomSink(Graph())\n",
    "p1 = CustomParser(sink1)\n",
    "with open(fname, encoding='utf-8') as f:\n",
    "    p1.parse(f)"
   ]
  },
  {
   "cell_type": "code",
   "execution_count": null,
   "id": "f225c89d",
   "metadata": {},
   "outputs": [],
   "source": [
    "redis_forms.save()"
   ]
  }
 ],
 "metadata": {
  "kernelspec": {
   "display_name": "Python 3 (ipykernel)",
   "language": "python",
   "name": "python3"
  },
  "language_info": {
   "codemirror_mode": {
    "name": "ipython",
    "version": 3
   },
   "file_extension": ".py",
   "mimetype": "text/x-python",
   "name": "python",
   "nbconvert_exporter": "python",
   "pygments_lexer": "ipython3",
   "version": "3.10.8"
  }
 },
 "nbformat": 4,
 "nbformat_minor": 5
}
