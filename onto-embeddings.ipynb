{
 "cells": [
  {
   "cell_type": "code",
   "execution_count": 12,
   "id": "1719c8e8",
   "metadata": {
    "scrolled": true
   },
   "outputs": [
    {
     "name": "stdout",
     "output_type": "stream",
     "text": [
      "huggingface/tokenizers: The current process just got forked, after parallelism has already been used. Disabling parallelism to avoid deadlocks...\n",
      "To disable this warning, you can either:\n",
      "\t- Avoid using `tokenizers` before the fork if possible\n",
      "\t- Explicitly set the environment variable TOKENIZERS_PARALLELISM=(true | false)\n",
      "Requirement already satisfied: sentence-transformers in /Users/tom/projects/python/miniconda/lib/python3.10/site-packages (2.2.2)\n",
      "Requirement already satisfied: gensim in /Users/tom/projects/python/miniconda/lib/python3.10/site-packages (4.3.1)\n",
      "Collecting SPARQLWrapper\n",
      "  Downloading SPARQLWrapper-2.0.0-py3-none-any.whl (28 kB)\n",
      "Requirement already satisfied: scipy in /Users/tom/projects/python/miniconda/lib/python3.10/site-packages (from sentence-transformers) (1.10.1)\n",
      "Requirement already satisfied: nltk in /Users/tom/projects/python/miniconda/lib/python3.10/site-packages (from sentence-transformers) (3.8.1)\n",
      "Requirement already satisfied: transformers<5.0.0,>=4.6.0 in /Users/tom/projects/python/miniconda/lib/python3.10/site-packages (from sentence-transformers) (4.28.0)\n",
      "Requirement already satisfied: sentencepiece in /Users/tom/projects/python/miniconda/lib/python3.10/site-packages (from sentence-transformers) (0.1.98)\n",
      "Requirement already satisfied: numpy in /Users/tom/projects/python/miniconda/lib/python3.10/site-packages (from sentence-transformers) (1.23.5)\n",
      "Requirement already satisfied: tqdm in /Users/tom/projects/python/miniconda/lib/python3.10/site-packages (from sentence-transformers) (4.64.1)\n",
      "Requirement already satisfied: torchvision in /Users/tom/projects/python/miniconda/lib/python3.10/site-packages (from sentence-transformers) (0.15.0.dev20230111)\n",
      "Requirement already satisfied: scikit-learn in /Users/tom/projects/python/miniconda/lib/python3.10/site-packages (from sentence-transformers) (1.2.2)\n",
      "Requirement already satisfied: torch>=1.6.0 in /Users/tom/projects/python/miniconda/lib/python3.10/site-packages (from sentence-transformers) (2.0.0)\n",
      "Requirement already satisfied: huggingface-hub>=0.4.0 in /Users/tom/projects/python/miniconda/lib/python3.10/site-packages (from sentence-transformers) (0.14.1)\n",
      "Requirement already satisfied: smart-open>=1.8.1 in /Users/tom/projects/python/miniconda/lib/python3.10/site-packages (from gensim) (6.3.0)\n",
      "Requirement already satisfied: rdflib>=6.1.1 in /Users/tom/projects/python/miniconda/lib/python3.10/site-packages (from SPARQLWrapper) (6.2.0)\n",
      "Requirement already satisfied: packaging>=20.9 in /Users/tom/projects/python/miniconda/lib/python3.10/site-packages (from huggingface-hub>=0.4.0->sentence-transformers) (22.0)\n",
      "Requirement already satisfied: requests in /Users/tom/projects/python/miniconda/lib/python3.10/site-packages (from huggingface-hub>=0.4.0->sentence-transformers) (2.26.0)\n",
      "Requirement already satisfied: fsspec in /Users/tom/projects/python/miniconda/lib/python3.10/site-packages (from huggingface-hub>=0.4.0->sentence-transformers) (2023.4.0)\n",
      "Requirement already satisfied: typing-extensions>=3.7.4.3 in /Users/tom/projects/python/miniconda/lib/python3.10/site-packages (from huggingface-hub>=0.4.0->sentence-transformers) (4.4.0)\n",
      "Requirement already satisfied: filelock in /Users/tom/projects/python/miniconda/lib/python3.10/site-packages (from huggingface-hub>=0.4.0->sentence-transformers) (3.9.0)\n",
      "Requirement already satisfied: pyyaml>=5.1 in /Users/tom/projects/python/miniconda/lib/python3.10/site-packages (from huggingface-hub>=0.4.0->sentence-transformers) (6.0)\n",
      "Requirement already satisfied: isodate in /Users/tom/projects/python/miniconda/lib/python3.10/site-packages (from rdflib>=6.1.1->SPARQLWrapper) (0.6.1)\n",
      "Requirement already satisfied: setuptools in /Users/tom/projects/python/miniconda/lib/python3.10/site-packages (from rdflib>=6.1.1->SPARQLWrapper) (65.5.0)\n",
      "Requirement already satisfied: pyparsing in /Users/tom/projects/python/miniconda/lib/python3.10/site-packages (from rdflib>=6.1.1->SPARQLWrapper) (3.0.9)\n",
      "Requirement already satisfied: networkx in /Users/tom/projects/python/miniconda/lib/python3.10/site-packages (from torch>=1.6.0->sentence-transformers) (3.0)\n",
      "Requirement already satisfied: jinja2 in /Users/tom/projects/python/miniconda/lib/python3.10/site-packages (from torch>=1.6.0->sentence-transformers) (3.1.2)\n",
      "Requirement already satisfied: sympy in /Users/tom/projects/python/miniconda/lib/python3.10/site-packages (from torch>=1.6.0->sentence-transformers) (1.11.1)\n",
      "Requirement already satisfied: tokenizers!=0.11.3,<0.14,>=0.11.1 in /Users/tom/projects/python/miniconda/lib/python3.10/site-packages (from transformers<5.0.0,>=4.6.0->sentence-transformers) (0.13.3)\n",
      "Requirement already satisfied: regex!=2019.12.17 in /Users/tom/projects/python/miniconda/lib/python3.10/site-packages (from transformers<5.0.0,>=4.6.0->sentence-transformers) (2022.10.31)\n",
      "Requirement already satisfied: click in /Users/tom/projects/python/miniconda/lib/python3.10/site-packages (from nltk->sentence-transformers) (8.1.3)\n",
      "Requirement already satisfied: joblib in /Users/tom/projects/python/miniconda/lib/python3.10/site-packages (from nltk->sentence-transformers) (1.2.0)\n",
      "Requirement already satisfied: threadpoolctl>=2.0.0 in /Users/tom/projects/python/miniconda/lib/python3.10/site-packages (from scikit-learn->sentence-transformers) (3.1.0)\n",
      "Requirement already satisfied: pillow!=8.3.*,>=5.3.0 in /Users/tom/projects/python/miniconda/lib/python3.10/site-packages (from torchvision->sentence-transformers) (9.4.0)\n",
      "Requirement already satisfied: six in /Users/tom/projects/python/miniconda/lib/python3.10/site-packages (from isodate->rdflib>=6.1.1->SPARQLWrapper) (1.16.0)\n",
      "Requirement already satisfied: MarkupSafe>=2.0 in /Users/tom/projects/python/miniconda/lib/python3.10/site-packages (from jinja2->torch>=1.6.0->sentence-transformers) (2.1.1)\n",
      "Requirement already satisfied: certifi>=2017.4.17 in /Users/tom/projects/python/miniconda/lib/python3.10/site-packages (from requests->huggingface-hub>=0.4.0->sentence-transformers) (2022.12.7)\n",
      "Requirement already satisfied: charset-normalizer~=2.0.0 in /Users/tom/projects/python/miniconda/lib/python3.10/site-packages (from requests->huggingface-hub>=0.4.0->sentence-transformers) (2.0.4)\n",
      "Requirement already satisfied: urllib3<1.27,>=1.21.1 in /Users/tom/projects/python/miniconda/lib/python3.10/site-packages (from requests->huggingface-hub>=0.4.0->sentence-transformers) (1.26.13)\n",
      "Requirement already satisfied: idna<4,>=2.5 in /Users/tom/projects/python/miniconda/lib/python3.10/site-packages (from requests->huggingface-hub>=0.4.0->sentence-transformers) (3.4)\n",
      "Requirement already satisfied: mpmath>=0.19 in /Users/tom/projects/python/miniconda/lib/python3.10/site-packages/mpmath-1.2.1-py3.10.egg (from sympy->torch>=1.6.0->sentence-transformers) (1.2.1)\n",
      "Installing collected packages: SPARQLWrapper\n",
      "Successfully installed SPARQLWrapper-2.0.0\n"
     ]
    }
   ],
   "source": [
    "!pip3 install sentence-transformers gensim SPARQLWrapper"
   ]
  },
  {
   "cell_type": "markdown",
   "id": "5c5247d5",
   "metadata": {},
   "source": [
    "## Vector creation pipeline"
   ]
  },
  {
   "cell_type": "code",
   "execution_count": 3,
   "id": "848b4913",
   "metadata": {},
   "outputs": [
    {
     "data": {
      "application/vnd.jupyter.widget-view+json": {
       "model_id": "a4b7c61c7f91429eb315835ded7f5759",
       "version_major": 2,
       "version_minor": 0
      },
      "text/plain": [
       "Downloading (…)001fa/.gitattributes:   0%|          | 0.00/690 [00:00<?, ?B/s]"
      ]
     },
     "metadata": {},
     "output_type": "display_data"
    },
    {
     "data": {
      "application/vnd.jupyter.widget-view+json": {
       "model_id": "f0061d5180824f798f056d1badaceebf",
       "version_major": 2,
       "version_minor": 0
      },
      "text/plain": [
       "Downloading (…)_Pooling/config.json:   0%|          | 0.00/190 [00:00<?, ?B/s]"
      ]
     },
     "metadata": {},
     "output_type": "display_data"
    },
    {
     "data": {
      "application/vnd.jupyter.widget-view+json": {
       "model_id": "6f826a733b1f4495a3357eafdb4e1136",
       "version_major": 2,
       "version_minor": 0
      },
      "text/plain": [
       "Downloading (…)3bbb8001fa/README.md:   0%|          | 0.00/3.69k [00:00<?, ?B/s]"
      ]
     },
     "metadata": {},
     "output_type": "display_data"
    },
    {
     "data": {
      "application/vnd.jupyter.widget-view+json": {
       "model_id": "63f9984ff4904a58a459b60dae479588",
       "version_major": 2,
       "version_minor": 0
      },
      "text/plain": [
       "Downloading (…)bb8001fa/config.json:   0%|          | 0.00/629 [00:00<?, ?B/s]"
      ]
     },
     "metadata": {},
     "output_type": "display_data"
    },
    {
     "data": {
      "application/vnd.jupyter.widget-view+json": {
       "model_id": "d2f7c8c4fe06427b8813c6af63f3b7f6",
       "version_major": 2,
       "version_minor": 0
      },
      "text/plain": [
       "Downloading (…)ce_transformers.json:   0%|          | 0.00/122 [00:00<?, ?B/s]"
      ]
     },
     "metadata": {},
     "output_type": "display_data"
    },
    {
     "data": {
      "application/vnd.jupyter.widget-view+json": {
       "model_id": "0cd1aae4259d4477bb7718f97a6b92a3",
       "version_major": 2,
       "version_minor": 0
      },
      "text/plain": [
       "Downloading pytorch_model.bin:   0%|          | 0.00/90.9M [00:00<?, ?B/s]"
      ]
     },
     "metadata": {},
     "output_type": "display_data"
    },
    {
     "data": {
      "application/vnd.jupyter.widget-view+json": {
       "model_id": "5914257e442f45208aa6a8c6db622941",
       "version_major": 2,
       "version_minor": 0
      },
      "text/plain": [
       "Downloading (…)nce_bert_config.json:   0%|          | 0.00/53.0 [00:00<?, ?B/s]"
      ]
     },
     "metadata": {},
     "output_type": "display_data"
    },
    {
     "data": {
      "application/vnd.jupyter.widget-view+json": {
       "model_id": "df872f84ba5e4e0ba3c2bcf25c49d141",
       "version_major": 2,
       "version_minor": 0
      },
      "text/plain": [
       "Downloading (…)cial_tokens_map.json:   0%|          | 0.00/112 [00:00<?, ?B/s]"
      ]
     },
     "metadata": {},
     "output_type": "display_data"
    },
    {
     "data": {
      "application/vnd.jupyter.widget-view+json": {
       "model_id": "ebc4d064b5e94cf994f678463ac727a5",
       "version_major": 2,
       "version_minor": 0
      },
      "text/plain": [
       "Downloading (…)001fa/tokenizer.json:   0%|          | 0.00/466k [00:00<?, ?B/s]"
      ]
     },
     "metadata": {},
     "output_type": "display_data"
    },
    {
     "data": {
      "application/vnd.jupyter.widget-view+json": {
       "model_id": "a0e5d94e4c9a4342be714ca901702463",
       "version_major": 2,
       "version_minor": 0
      },
      "text/plain": [
       "Downloading (…)okenizer_config.json:   0%|          | 0.00/314 [00:00<?, ?B/s]"
      ]
     },
     "metadata": {},
     "output_type": "display_data"
    },
    {
     "data": {
      "application/vnd.jupyter.widget-view+json": {
       "model_id": "afe91a6bec6e49fab1d7af31cb91aacd",
       "version_major": 2,
       "version_minor": 0
      },
      "text/plain": [
       "Downloading (…)3bbb8001fa/vocab.txt:   0%|          | 0.00/232k [00:00<?, ?B/s]"
      ]
     },
     "metadata": {},
     "output_type": "display_data"
    },
    {
     "data": {
      "application/vnd.jupyter.widget-view+json": {
       "model_id": "fbd4d6d8b94a4c20a0d6bcd3e781b431",
       "version_major": 2,
       "version_minor": 0
      },
      "text/plain": [
       "Downloading (…)b8001fa/modules.json:   0%|          | 0.00/229 [00:00<?, ?B/s]"
      ]
     },
     "metadata": {},
     "output_type": "display_data"
    }
   ],
   "source": [
    "from sentence_transformers import SentenceTransformer\n",
    "model = SentenceTransformer('paraphrase-MiniLM-L6-v2')"
   ]
  },
  {
   "cell_type": "code",
   "execution_count": 4,
   "id": "4dd3eb49",
   "metadata": {},
   "outputs": [],
   "source": [
    "#Sentences we want to encode. Example:\n",
    "sentence = ['This framework generates embeddings for each input sentence']\n",
    "\n",
    "#Sentences are encoded by calling model.encode()\n",
    "embedding = model.encode(sentence)"
   ]
  },
  {
   "cell_type": "code",
   "execution_count": 5,
   "id": "9dfb0bc0",
   "metadata": {
    "scrolled": true
   },
   "outputs": [
    {
     "data": {
      "text/plain": [
       "array([-1.76214606e-01,  1.20601386e-01, -2.93623507e-01, -2.29857996e-01,\n",
       "       -8.22926089e-02,  2.37709135e-01,  3.39985043e-01, -7.80964434e-01,\n",
       "        1.18127473e-01,  1.63373724e-01, -1.37715369e-01,  2.40282834e-01,\n",
       "        4.25125867e-01,  1.72417581e-01,  1.05279520e-01,  5.18164277e-01,\n",
       "        6.22216091e-02,  3.99286300e-01, -1.81652561e-01, -5.85578442e-01,\n",
       "        4.49723750e-02, -1.72750652e-01, -2.68443674e-01, -1.47386163e-01,\n",
       "       -1.89217508e-01,  1.92150250e-01, -3.83842975e-01, -3.96006763e-01,\n",
       "        4.30648744e-01, -3.15320075e-01,  3.65949899e-01,  6.05159067e-02,\n",
       "        3.57325613e-01,  1.59736484e-01, -3.00983757e-01,  2.63250381e-01,\n",
       "       -3.94310653e-01,  1.84855431e-01, -3.99549127e-01, -2.67889589e-01,\n",
       "       -5.45117438e-01, -3.13404277e-02, -4.30644095e-01,  1.33277997e-01,\n",
       "       -1.74793556e-01, -4.35465306e-01, -4.77378666e-01,  7.12552369e-02,\n",
       "       -7.37001821e-02,  5.69137216e-01, -2.82579482e-01,  5.24976924e-02,\n",
       "       -8.20007861e-01,  1.98296711e-01,  1.69512287e-01,  2.71780044e-01,\n",
       "        2.64610708e-01, -2.55746040e-02, -1.74096376e-01,  1.63314238e-01,\n",
       "       -3.95260453e-01, -3.17560174e-02, -2.62556255e-01,  3.52754235e-01,\n",
       "        3.01434666e-01, -1.47197232e-01,  2.10075855e-01, -1.84010282e-01,\n",
       "       -4.12896425e-01,  4.14775878e-01, -1.89769402e-01, -1.35481894e-01,\n",
       "       -3.79272670e-01, -4.68026586e-02, -3.33602428e-02,  9.00395215e-02,\n",
       "       -3.30133229e-01, -3.87315378e-02,  3.75082225e-01, -1.46996632e-01,\n",
       "        4.34959859e-01,  5.38325667e-01, -2.65445530e-01,  1.64446279e-01,\n",
       "        4.17077869e-01, -4.72510271e-02, -7.48732835e-02, -4.26261127e-01,\n",
       "       -1.96994379e-01,  6.10317402e-02, -4.74263221e-01, -6.48334861e-01,\n",
       "        3.71462226e-01,  2.50956714e-01,  1.22529760e-01,  8.88765231e-02,\n",
       "       -1.06724232e-01,  5.33984266e-02,  9.74508598e-02, -3.46656740e-02,\n",
       "       -1.02882862e-01,  2.32289076e-01, -2.53739804e-01, -5.13112009e-01,\n",
       "        1.85216814e-01, -3.04358006e-01, -3.55211422e-02, -1.26974910e-01,\n",
       "       -7.71628544e-02, -5.15329540e-01, -2.28071749e-01,  2.03342550e-02,\n",
       "        7.38175511e-02, -1.52557984e-01, -4.00837868e-01, -2.47748673e-01,\n",
       "        3.97470593e-01, -2.60260731e-01,  2.50905991e-01,  1.68229014e-01,\n",
       "        1.33900657e-01, -2.10833848e-02, -4.70035285e-01,  4.78849858e-01,\n",
       "        2.80345619e-01, -4.64547217e-01,  3.21746647e-01,  2.34207422e-01,\n",
       "        2.45772287e-01, -4.71482247e-01,  5.00401616e-01,  4.10189748e-01,\n",
       "        5.15217066e-01,  2.62549222e-01,  2.11586636e-02, -3.89687687e-01,\n",
       "       -2.41742983e-01, -2.14834303e-01, -8.62657726e-02, -1.65323704e-01,\n",
       "       -5.21897003e-02,  3.41875374e-01,  4.50314552e-01, -3.06973457e-01,\n",
       "       -2.02294409e-01,  6.85521543e-01, -5.33892453e-01,  3.58471036e-01,\n",
       "        1.45286828e-01, -7.07057640e-02, -1.50529668e-01, -8.56283084e-02,\n",
       "       -7.67851993e-02,  1.89544454e-01, -1.04067251e-01,  5.33543706e-01,\n",
       "       -5.27886987e-01,  2.42333598e-02, -2.64347672e-01, -2.23186478e-01,\n",
       "       -3.81208211e-01,  7.59913698e-02, -4.64484841e-01, -3.36548805e-01,\n",
       "        4.21229213e-01,  1.07479230e-01,  1.90457597e-01,  2.89489934e-03,\n",
       "       -1.08513564e-01,  1.53545529e-01,  3.16023052e-01, -2.70838477e-02,\n",
       "       -5.40594518e-01,  8.97286981e-02, -1.15549378e-01,  3.97803962e-01,\n",
       "       -4.97683674e-01, -2.84893543e-01,  4.99865562e-02,  3.61279547e-01,\n",
       "        6.90535545e-01,  1.46821544e-01,  1.73396498e-01, -1.74582630e-01,\n",
       "       -3.15702945e-01,  6.72998279e-02,  2.17250198e-01,  9.78541076e-02,\n",
       "       -1.29472703e-01, -1.86929941e-01,  1.34878457e-01, -1.53885528e-01,\n",
       "        7.44717121e-02, -1.85536087e-01, -2.80627847e-01, -1.14144221e-01,\n",
       "        4.12249207e-01,  6.39496297e-02, -1.45715490e-01, -9.82061550e-02,\n",
       "       -1.33082166e-01, -1.88410863e-01, -2.84842663e-02, -3.49507071e-02,\n",
       "        3.34264711e-02,  6.98897243e-02,  1.90354481e-01, -2.96723902e-01,\n",
       "        2.64680153e-03,  1.09140582e-01,  1.70891397e-02,  2.60589063e-01,\n",
       "        3.29037994e-01, -6.61556274e-02,  2.39665300e-01, -2.26195261e-01,\n",
       "       -3.36874127e-02,  1.49400413e-01, -3.21265161e-01, -2.68577993e-01,\n",
       "        5.72631240e-01, -4.92308497e-01,  2.00666219e-01, -3.49261761e-01,\n",
       "       -2.89884340e-02,  6.09010577e-01, -5.72333217e-01,  2.35000357e-01,\n",
       "        6.47204556e-03, -3.14946808e-02,  2.78109889e-02, -3.90340358e-01,\n",
       "       -2.08949983e-01, -3.04452598e-01, -7.20199794e-02, -8.29838961e-02,\n",
       "        3.73793006e-01,  7.38936737e-02, -2.21071206e-02,  9.88137797e-02,\n",
       "       -1.51426718e-01, -1.40430585e-01,  2.26017937e-01,  2.76089996e-01,\n",
       "       -8.87746960e-02, -1.12816341e-01, -2.66285568e-01,  2.77834713e-01,\n",
       "       -4.75605391e-02,  6.71010390e-02, -2.78587155e-02, -2.39992253e-02,\n",
       "        2.51709044e-01,  4.68793541e-01, -5.39325118e-01,  1.10598527e-01,\n",
       "       -3.44947040e-01,  4.15989876e-01,  7.28483275e-02, -3.19647491e-01,\n",
       "        4.90374088e-01, -7.30310706e-03, -2.64212745e-03,  9.63711143e-01,\n",
       "        3.23884934e-01, -7.79618546e-02, -2.37589300e-01,  2.34038576e-01,\n",
       "       -3.16053540e-01, -1.65645208e-03, -1.09070659e+00,  3.38409245e-01,\n",
       "        4.70604971e-02,  1.07435293e-01, -2.06672221e-01,  4.26432304e-03,\n",
       "       -1.38479471e-03, -5.31455457e-01, -2.75647938e-01, -1.64648324e-01,\n",
       "       -3.42916846e-01, -4.26118314e-01,  6.01812005e-01,  4.55971926e-01,\n",
       "       -2.72702366e-01, -3.45809907e-02,  2.62752771e-01, -6.34175772e-03,\n",
       "        2.79631257e-01, -2.53558815e-01, -1.68626368e-01,  3.82936075e-02,\n",
       "        2.07762942e-01, -4.31525826e-01, -7.23997056e-02, -1.26854360e-01,\n",
       "        2.07030550e-02,  5.74441016e-01,  3.54672790e-01,  9.28300098e-02,\n",
       "        6.70505986e-02,  1.11520737e-01, -1.86517704e-02,  4.62351769e-01,\n",
       "        2.72504359e-01, -3.60473841e-01,  5.29415488e-01, -1.00294431e-03,\n",
       "       -8.81362706e-02,  1.49975479e-01,  5.25861569e-02,  4.63517487e-01,\n",
       "       -3.96831334e-01,  2.42640510e-01, -2.08912447e-01,  3.65671903e-01,\n",
       "       -4.73095250e-04,  5.33963323e-01, -1.97879702e-01,  3.11582834e-01,\n",
       "       -6.96714997e-01, -4.29500580e-01, -4.49359208e-01, -2.71370523e-02,\n",
       "       -6.98710755e-02,  2.06174880e-01, -1.57107130e-01,  4.43521291e-01,\n",
       "       -6.74266517e-02, -3.00924093e-01,  5.14859438e-01,  3.36029083e-01,\n",
       "        6.63373992e-02, -1.15235366e-01, -2.95977667e-02,  2.79471934e-01,\n",
       "       -3.48199941e-02, -7.29327500e-02, -4.58473340e-02,  1.54262245e-01,\n",
       "        8.09355795e-01,  5.20328403e-01, -4.02114689e-01, -3.23145278e-02,\n",
       "       -1.10364132e-01,  7.50501603e-02, -1.51098564e-01,  8.45740020e-01,\n",
       "       -1.80843890e-01,  3.22573513e-01,  1.04708597e-01,  3.19663644e-01,\n",
       "       -1.55085534e-01,  1.69236630e-01, -2.56997049e-01,  2.01208919e-01,\n",
       "        1.77393228e-01, -2.74333566e-01, -3.36944640e-01,  5.02357185e-01,\n",
       "       -1.18357219e-01, -2.01167122e-01, -5.36485732e-01, -7.69808367e-02,\n",
       "        1.15382541e-02, -2.36464649e-01, -2.98768096e-02,  1.31366462e-01,\n",
       "        2.94184327e-01,  9.90919173e-02, -5.43897331e-01,  1.40812859e-01,\n",
       "        3.66998643e-01,  5.04865311e-02,  1.99122056e-01, -2.80674666e-01,\n",
       "        4.34192240e-01, -1.40275091e-01,  5.78048885e-01,  1.77715629e-01,\n",
       "        8.98362473e-02,  3.29651237e-01,  6.13006540e-02, -3.24933112e-01],\n",
       "      dtype=float32)"
      ]
     },
     "execution_count": 5,
     "metadata": {},
     "output_type": "execute_result"
    }
   ],
   "source": [
    "embedding[0]"
   ]
  },
  {
   "cell_type": "code",
   "execution_count": 65,
   "id": "2685d775",
   "metadata": {},
   "outputs": [],
   "source": [
    "from SPARQLWrapper import SPARQLWrapper, JSON\n",
    "\n",
    "NS_RESOURCE = 'http://dbpedia.org/resource/'\n",
    "NS_RESOURCE_LEN = len(NS_RESOURCE)\n",
    "\n",
    "NS_ONTOLOGY = 'http://dbpedia.org/ontology/'\n",
    "NS_ONTOLOGY_LEN = len(NS_ONTOLOGY)"
   ]
  },
  {
   "cell_type": "code",
   "execution_count": 50,
   "id": "3ff19a38",
   "metadata": {},
   "outputs": [],
   "source": [
    "def retrieve_tbox(lang='en', offset=0):\n",
    "    sparql = SPARQLWrapper('http://dbpedia.org/sparql')\n",
    "    query = f\"\"\"\n",
    "    SELECT ?uri ?label {{\n",
    "      ?uri a ?type ; rdfs:label ?label .\n",
    "      values(?type) {{ (owl:Class) (rdf:Property) }}\n",
    "      filter(lang(?label) = '{lang}' && regex(?uri, \"http://dbpedia.org/ontology/\"))\n",
    "    }} LIMIT 10000 OFFSET {offset}\n",
    "    \"\"\"\n",
    "    sparql.setQuery(query)\n",
    "    sparql.setReturnFormat(JSON)\n",
    "    results = sparql.query().convert()\n",
    "    \n",
    "    tbox = {}\n",
    "    for result in results['results']['bindings']:\n",
    "        uri = result['uri']['value']\n",
    "        label = result['label']['value']\n",
    "        if label not in tbox:\n",
    "            tbox[label] = set()\n",
    "        tbox[label].add(uri)\n",
    "    return tbox"
   ]
  },
  {
   "cell_type": "code",
   "execution_count": 52,
   "id": "10af0b44",
   "metadata": {},
   "outputs": [
    {
     "data": {
      "text/plain": [
       "3520"
      ]
     },
     "execution_count": 52,
     "metadata": {},
     "output_type": "execute_result"
    }
   ],
   "source": [
    "offset = 0\n",
    "tbox = {}\n",
    "while True:\n",
    "    tbox_chunk = retrieve_tbox(lang='en', offset=offset)\n",
    "    if len(tbox_chunk) == 0:\n",
    "        break\n",
    "    offset += 10000\n",
    "    for k, v in tbox_chunk.items():\n",
    "        if k not in tbox:\n",
    "            tbox[k] = set()\n",
    "        tbox[k] = tbox[k].union(v)\n",
    "len(tbox)"
   ]
  },
  {
   "cell_type": "code",
   "execution_count": 38,
   "id": "2f3b68f6",
   "metadata": {},
   "outputs": [],
   "source": [
    "labels = [l.replace('\\n', ' ') for l in tbox]"
   ]
  },
  {
   "cell_type": "code",
   "execution_count": 16,
   "id": "331ffb39",
   "metadata": {},
   "outputs": [],
   "source": [
    "embeddings = model.encode(labels)\n",
    "\n",
    "with open('dbpedia-ontology.vectors', 'w', encoding='utf-8') as f_out:\n",
    "    f_out.write(f\"{len(labels)} {len(embeddings[0])}\\n\")\n",
    "    for label, embedding in zip(labels, embeddings):\n",
    "        f_out.write(f\"{label.replace(' ', '_')} {' '.join([str(x) for x in embedding])}\\n\")"
   ]
  },
  {
   "cell_type": "markdown",
   "id": "04d3bd58",
   "metadata": {},
   "source": [
    "## Query pipeline"
   ]
  },
  {
   "cell_type": "code",
   "execution_count": 8,
   "id": "df1d2a88",
   "metadata": {},
   "outputs": [],
   "source": [
    "from gensim.models import KeyedVectors"
   ]
  },
  {
   "cell_type": "code",
   "execution_count": 9,
   "id": "ac415656",
   "metadata": {},
   "outputs": [],
   "source": [
    "w2v_model = KeyedVectors.load_word2vec_format('dbpedia-ontology.vectors', binary=False)"
   ]
  },
  {
   "cell_type": "code",
   "execution_count": 79,
   "id": "ce70675d",
   "metadata": {},
   "outputs": [],
   "source": [
    "import pandas as pd\n",
    "\n",
    "def to_uri(label):\n",
    "    # filter out glitchy Urdu URIs\n",
    "    return list(filter(lambda x: 'A' <= x[NS_ONTOLOGY_LEN : NS_ONTOLOGY_LEN+1] <= 'z', tbox[label]))\n",
    "\n",
    "def ontosim_search(term):\n",
    "    result = w2v_model.most_similar(positive=model.encode([term]), topn=5)\n",
    "    out = []\n",
    "    for label, score in result:\n",
    "        out.append({'label': label.replace('_', ' '), 'score': score})\n",
    "    df = pd.DataFrame(out)\n",
    "    df.insert(0, 'URIs', df['label'].map(to_uri))\n",
    "    return df"
   ]
  },
  {
   "cell_type": "code",
   "execution_count": 84,
   "id": "7fa834f6",
   "metadata": {},
   "outputs": [
    {
     "name": "stdout",
     "output_type": "stream",
     "text": [
      "                                                                                             URIs                label     score\n",
      "0          [http://dbpedia.org/ontology/VicePresident, http://dbpedia.org/ontology/vicePresident]       vice president  0.981270\n",
      "1                                                        [http://dbpedia.org/ontology/viceLeader]          vice leader  0.900534\n",
      "2                  [http://dbpedia.org/ontology/President, http://dbpedia.org/ontology/president]            president  0.750471\n",
      "3                                                    [http://dbpedia.org/ontology/viceChancellor]      vice chancellor  0.730483\n",
      "4  [http://dbpedia.org/ontology/VicePrimeMinister, http://dbpedia.org/ontology/vicePrimeMinister]  vice prime minister  0.683350\n"
     ]
    }
   ],
   "source": [
    "df = ontosim_search('vice-president')\n",
    "with pd.option_context('max_colwidth', None, 'display.width', 200):\n",
    "    print(df)"
   ]
  },
  {
   "cell_type": "code",
   "execution_count": null,
   "id": "4bcf7191",
   "metadata": {},
   "outputs": [],
   "source": []
  }
 ],
 "metadata": {
  "kernelspec": {
   "display_name": "Python 3 (ipykernel)",
   "language": "python",
   "name": "python3"
  },
  "language_info": {
   "codemirror_mode": {
    "name": "ipython",
    "version": 3
   },
   "file_extension": ".py",
   "mimetype": "text/x-python",
   "name": "python",
   "nbconvert_exporter": "python",
   "pygments_lexer": "ipython3",
   "version": "3.10.8"
  }
 },
 "nbformat": 4,
 "nbformat_minor": 5
}
