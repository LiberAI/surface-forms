{
 "cells": [
  {
   "cell_type": "code",
   "execution_count": null,
   "id": "72d1fa70",
   "metadata": {},
   "outputs": [],
   "source": [
    "!wget https://downloads.dbpedia.org/repo/dbpedia/generic/redirects/2022.12.01/redirects_lang=en.ttl.bz2\n",
    "!bunzip2 redirects_lang=en.ttl.bz2"
   ]
  },
  {
   "cell_type": "code",
   "execution_count": null,
   "id": "ff36d780",
   "metadata": {},
   "outputs": [],
   "source": [
    "from redis import StrictRedis\n",
    "\n",
    "redis_redir = StrictRedis(host='localhost', port=7979, db=1) # db=1 is redirects"
   ]
  },
  {
   "cell_type": "code",
   "execution_count": null,
   "id": "03e8d904",
   "metadata": {},
   "outputs": [],
   "source": [
    "import rdflib"
   ]
  },
  {
   "cell_type": "code",
   "execution_count": null,
   "id": "81b556aa",
   "metadata": {},
   "outputs": [],
   "source": [
    "NS_RESOURCE = 'http://dbpedia.org/resource/'\n",
    "NS_RESOURCE_LEN = len(NS_RESOURCE)"
   ]
  },
  {
   "cell_type": "code",
   "execution_count": null,
   "id": "fe67399b",
   "metadata": {},
   "outputs": [],
   "source": [
    "import sys\n",
    "from rdflib import Graph, URIRef, BNode, Literal\n",
    "from rdflib.plugins.parsers import ntriples\n",
    "from rdflib.exceptions import ParserError as ParseError\n",
    "\n",
    "class CustomSink(ntriples.NTGraphSink):\n",
    "    def __init__(self, graph):\n",
    "        super().__init__(graph)\n",
    "        self.counter = 0\n",
    "    def triple(self, s, p, o):\n",
    "        source = str(s)[NS_RESOURCE_LEN:]\n",
    "        target = str(o)[NS_RESOURCE_LEN:]\n",
    "#         print((source, target))\n",
    "        redis_redir.set(source, target)\n",
    "        self.counter += 1\n",
    "        if self.counter % 1_000_000 == 0:\n",
    "            print(f\"{int(self.counter / 1_000_000)} M\")\n",
    "\n",
    "class CustomParser(ntriples.W3CNTriplesParser):\n",
    "    def parse(self, f):\n",
    "        if not hasattr(f, \"read\"):\n",
    "            raise ParseError(\"Item to parse must be a file-like object.\")\n",
    "\n",
    "        if not hasattr(f, \"encoding\") and not hasattr(f, \"charbuffer\"):\n",
    "            # someone still using a bytestream here?\n",
    "            f = codecs.getreader(\"utf-8\")(f)\n",
    "\n",
    "        self.file = f  # type: ignore[assignment]\n",
    "        self.buffer = \"\"\n",
    "        while True:\n",
    "            self.line = self.readline()\n",
    "            if self.line is None:\n",
    "                break\n",
    "            try:\n",
    "                self.parseline()\n",
    "            except ParseError:\n",
    "                pass # ignore parse errors\n",
    "        return self.sink\n",
    "\n",
    "fname = r\"redirects_lang=en.ttl\"\n",
    "sink = CustomSink(Graph())\n",
    "parser = CustomParser(sink)\n",
    "with open(fname, encoding='utf-8') as f:\n",
    "    parser.parse(f)"
   ]
  },
  {
   "cell_type": "code",
   "execution_count": null,
   "id": "5061af9a",
   "metadata": {},
   "outputs": [],
   "source": [
    "# redis_redir.flushdb()\n",
    "redis_redir.save()"
   ]
  }
 ],
 "metadata": {
  "kernelspec": {
   "display_name": "Python 3 (ipykernel)",
   "language": "python",
   "name": "python3"
  },
  "language_info": {
   "codemirror_mode": {
    "name": "ipython",
    "version": 3
   },
   "file_extension": ".py",
   "mimetype": "text/x-python",
   "name": "python",
   "nbconvert_exporter": "python",
   "pygments_lexer": "ipython3",
   "version": "3.10.8"
  }
 },
 "nbformat": 4,
 "nbformat_minor": 5
}
